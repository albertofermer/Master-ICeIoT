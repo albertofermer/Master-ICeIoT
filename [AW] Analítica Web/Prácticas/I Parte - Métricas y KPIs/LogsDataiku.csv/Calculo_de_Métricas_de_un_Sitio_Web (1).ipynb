{
  "nbformat": 4,
  "nbformat_minor": 0,
  "metadata": {
    "colab": {
      "provenance": []
    },
    "kernelspec": {
      "name": "python3",
      "display_name": "Python 3"
    },
    "language_info": {
      "name": "python"
    }
  },
  "cells": [
    {
      "cell_type": "markdown",
      "source": [
        "# Cálculo de Métricas de un Sitio Web"
      ],
      "metadata": {
        "id": "GJERaWNt6T1S"
      }
    },
    {
      "cell_type": "code",
      "execution_count": 1,
      "metadata": {
        "id": "nPijkyRK6DO1"
      },
      "outputs": [],
      "source": [
        "import pandas as pd\n",
        "import numpy as np"
      ]
    },
    {
      "cell_type": "code",
      "source": [
        "# Cargamos el csv\n",
        "df = pd.read_csv('LogsDataiku.csv')"
      ],
      "metadata": {
        "id": "RAAxXkdf6wCV"
      },
      "execution_count": 2,
      "outputs": []
    },
    {
      "cell_type": "code",
      "source": [
        "df.shape"
      ],
      "metadata": {
        "colab": {
          "base_uri": "https://localhost:8080/"
        },
        "id": "uK3in5r06228",
        "outputId": "131969b4-2622-4d87-d085-805d3871cc42"
      },
      "execution_count": 3,
      "outputs": [
        {
          "output_type": "execute_result",
          "data": {
            "text/plain": [
              "(10849, 18)"
            ]
          },
          "metadata": {},
          "execution_count": 3
        }
      ]
    },
    {
      "cell_type": "markdown",
      "source": [
        "A partir del dataset anterior, calcula las siguientes métricas para el periodo de tiempo registrado\n",
        "- N.º de visitas → Número de visitas (sesiones que ha tenido el sitio web)\n",
        "- N.º de visitantes únicos → Número de usuarios diferentes que han visitado el sitio web\n",
        "- N.º medio de páginas/visitas →Para cada visita (sesión) cuántas páginas se han visitado. Media\n",
        " para todas las visitas\n",
        "- Tasa de rebote → Número de visitas (sesiones) que solo han accedido a una página\n",
        "- Tasa de salida para cada página → % de veces que cada página ha sido una página de salida\n",
        "- Tráfico directo → Número de visitas (sesiones) que provienen de escribir la url directamente\n",
        "- Tráfico de búsqueda → Número de visitas (sesiones) que provienen de pinchar en una búsqueda\n",
        "- Tráfico referido → Número de visitas (sesiones) que provienen de pinchar en un enlace de otra\n",
        "página\n"
      ],
      "metadata": {
        "id": "cP3oaa_A7n-i"
      }
    },
    {
      "cell_type": "markdown",
      "source": [
        "## Número de Visitas"
      ],
      "metadata": {
        "id": "-5bdXDry7u_M"
      }
    },
    {
      "cell_type": "markdown",
      "source": [
        " seleccionamos la columna 'session_id', que contiene los identificadores de sesión únicos para cada visita al sitio web. Luego, se aplica el método notna() que devuelve el número de valores que no son NaN, es decir, el número total de visitas."
      ],
      "metadata": {
        "id": "LzQKBtB2VMRv"
      }
    },
    {
      "cell_type": "code",
      "source": [
        "# Calculamos el número de visitas total utilizando la cookie de utmb (session_id)\n",
        "num_visitas = df['session_id'].notna().sum()\n",
        "num_visitas"
      ],
      "metadata": {
        "colab": {
          "base_uri": "https://localhost:8080/"
        },
        "id": "6crML0kw67hp",
        "outputId": "0b901d3e-9949-4b2a-f177-875a54547c17"
      },
      "execution_count": 4,
      "outputs": [
        {
          "output_type": "execute_result",
          "data": {
            "text/plain": [
              "np.int64(10849)"
            ]
          },
          "metadata": {},
          "execution_count": 4
        }
      ]
    },
    {
      "cell_type": "markdown",
      "source": [
        "## Número de visitantes únicos\n"
      ],
      "metadata": {
        "id": "_bbVIVfW7x9e"
      }
    },
    {
      "cell_type": "markdown",
      "source": [
        "Se extrae la columna 'visitor_id' del DataFrame, que contiene identificadores únicos para cada visitante del sitio web. Luego, se utiliza el método nunique() para contar el número de valores únicos en esa columna, lo que da como resultado el número total de personas visitantes únicas al sitio web."
      ],
      "metadata": {
        "id": "BmJS5Aw5Vqtp"
      }
    },
    {
      "cell_type": "code",
      "source": [
        "# Calculamos el número de visitantes unicos utilizando la cookie utma (visitor_id)\n",
        "num_visitantes_unicos = df['visitor_id'].nunique()\n",
        "num_visitantes_unicos"
      ],
      "metadata": {
        "colab": {
          "base_uri": "https://localhost:8080/"
        },
        "id": "D0z3ShSU7wwR",
        "outputId": "2ff266d1-abc1-4c53-fa05-2a272c04a2b1"
      },
      "execution_count": 5,
      "outputs": [
        {
          "output_type": "execute_result",
          "data": {
            "text/plain": [
              "2537"
            ]
          },
          "metadata": {},
          "execution_count": 5
        }
      ]
    },
    {
      "cell_type": "markdown",
      "source": [
        "## Número medio de páginas/visita"
      ],
      "metadata": {
        "id": "k7_VR5Dd70Ue"
      }
    },
    {
      "cell_type": "markdown",
      "source": [
        "se agrupa el DataFrame por el 'session_id' utilizando el método groupby(). Se extrae la columna de location y se realiza la media de la suma de todos los valores. lo que nos da el número medio de páginas por visita."
      ],
      "metadata": {
        "id": "LtX_SR82V3xm"
      }
    },
    {
      "cell_type": "code",
      "source": [
        "# Calculamos el número de páginas que ha visitado cada sesion unica y hacemos la media\n",
        "num_paginas_por_visita = df.groupby('session_id')['location'].count().mean()\n",
        "num_paginas_por_visita"
      ],
      "metadata": {
        "colab": {
          "base_uri": "https://localhost:8080/"
        },
        "id": "xZjpKe3n74i-",
        "outputId": "69b37a49-bdb3-4c22-f530-9b999c587974"
      },
      "execution_count": 6,
      "outputs": [
        {
          "output_type": "execute_result",
          "data": {
            "text/plain": [
              "np.float64(2.749366447034972)"
            ]
          },
          "metadata": {},
          "execution_count": 6
        }
      ]
    },
    {
      "cell_type": "markdown",
      "source": [
        "## Tasa de rebote"
      ],
      "metadata": {
        "id": "ddAD7yvh74Wa"
      }
    },
    {
      "cell_type": "markdown",
      "source": [
        " El DataFrame se agrupa por el 'session_id' con groupby(). Seleccionando la columa location podemos ver que sesiones han accedido a una página solamente.\n",
        "\n",
        "  Después, se compara si el tamaño de cada grupo es igual a 1, lo que indica que la sesión consiste en una sola página vista.\n",
        "  \n",
        "  Finalmente, se calcula la media de esta serie de booleanos dividiendo entre el numero total de sesiones unicas, lo que nos da la proporción de sesiones que resultaron en una tasa de rebote."
      ],
      "metadata": {
        "id": "rmOxS7e1Wdan"
      }
    },
    {
      "cell_type": "code",
      "source": [
        "# Tasa de salida por página\n",
        "rebote_count = df.groupby(\"session_id\")[\"location\"].count() # Que sesiones han accedido a una pagina unicamente\n",
        "tasa_rebote = (rebote_count[rebote_count == 1].count() / df[\"session_id\"].nunique())\n",
        "tasa_rebote"
      ],
      "metadata": {
        "colab": {
          "base_uri": "https://localhost:8080/"
        },
        "id": "zktkJYZ_745z",
        "outputId": "d881efd7-5ed5-49cf-dc87-21dffb1f28ff"
      },
      "execution_count": 7,
      "outputs": [
        {
          "output_type": "execute_result",
          "data": {
            "text/plain": [
              "np.float64(0.5486568677141409)"
            ]
          },
          "metadata": {},
          "execution_count": 7
        }
      ]
    },
    {
      "cell_type": "markdown",
      "source": [
        "## Tasa de salida para cada página"
      ],
      "metadata": {
        "id": "mBUTf7P778DJ"
      }
    },
    {
      "cell_type": "markdown",
      "source": [
        "Se filtran las filas del DataFrame donde la columna 'referer' es nula, lo que indica que es una página de salida. Luego, se agrupa este subconjunto de datos por la ubicación de la página ('location') utilizando el método groupby().\n",
        "\n",
        "Se calcula el tamaño de cada grupo, que representa la cantidad de veces que cada página ha sido una página de salida, utilizando el método size().\n",
        "\n",
        " Esto se divide por el tamaño de cada grupo del DataFrame original, que representa el número total de veces que cada página ha sido visitada.\n",
        "\n",
        " El resultado es una serie que contiene la tasa de salida para cada página."
      ],
      "metadata": {
        "id": "sVzeCF_MW-Ir"
      }
    },
    {
      "cell_type": "code",
      "source": [
        "exit_pages = df[df['referer'].isna()].groupby('location').size() / df.groupby('location').size()\n",
        "print(\"Tasa de salida para cada página:\")\n",
        "print(exit_pages)"
      ],
      "metadata": {
        "colab": {
          "base_uri": "https://localhost:8080/"
        },
        "id": "rzIq8cih77r2",
        "outputId": "d094139b-512e-472b-f429-2f741dd428ba"
      },
      "execution_count": 12,
      "outputs": [
        {
          "output_type": "stream",
          "name": "stdout",
          "text": [
            "Tasa de salida para cada página:\n",
            "location\n",
            "http://dataiku.com/                             0.483791\n",
            "http://dataiku.com/applications/                0.006803\n",
            "http://dataiku.com/applications/advertising/         NaN\n",
            "http://dataiku.com/applications/ecommerce/      0.020833\n",
            "http://dataiku.com/applications/freemium/       0.019608\n",
            "                                                  ...   \n",
            "http://www.dataiku.com/products/pricing/        0.050473\n",
            "http://www.dataiku.com/products/shaker/         0.013245\n",
            "http://www.dataiku.com/products/sharing/        0.016304\n",
            "http://www.dataiku.com/products/thankyou/       0.730769\n",
            "http://www.dataiku.com/products/trynow/         0.008929\n",
            "Length: 96, dtype: float64\n"
          ]
        }
      ]
    },
    {
      "cell_type": "markdown",
      "source": [
        "## Tráfico directo"
      ],
      "metadata": {
        "id": "sIGoi96V8A6U"
      }
    },
    {
      "cell_type": "markdown",
      "source": [
        "Seleccinamos las filas del DataFrame donde la columna 'referer' es nula, lo que indica que el tráfico proviene de un acceso directo (es decir, el usuario escribió la URL directamente en la barra de direcciones del navegador).\n",
        "\n",
        "Luego, se seleccionan los identificadores únicos de sesión ('session_id') de estas filas.\n",
        "\n",
        " Finalmente, se calcula el número de sesiones únicas utilizando el método nunique(), lo que nos da el número total de visitas únicas que provienen de tráfico directo."
      ],
      "metadata": {
        "id": "jnUeB50MXW2k"
      }
    },
    {
      "cell_type": "code",
      "source": [
        "# Tráfico directo → Número de visitas (sesiones) que provienen de escribir la url directamente\n",
        "# es decir, donde referer sea NaN\n",
        "num_trafico_directo = df[df['referer'].isna()]['session_id'].nunique()\n",
        "num_trafico_directo"
      ],
      "metadata": {
        "colab": {
          "base_uri": "https://localhost:8080/"
        },
        "id": "MJO0oqy58EwP",
        "outputId": "2096a1be-47c0-4ac5-96ce-cb9a0678efd6"
      },
      "execution_count": 9,
      "outputs": [
        {
          "output_type": "execute_result",
          "data": {
            "text/plain": [
              "1098"
            ]
          },
          "metadata": {},
          "execution_count": 9
        }
      ]
    },
    {
      "cell_type": "markdown",
      "source": [
        "## Tráfico de búsqueda"
      ],
      "metadata": {
        "id": "q32XJcwy8Fr0"
      }
    },
    {
      "cell_type": "markdown",
      "source": [
        "Seleccionamos las filas del DataFrame donde la columna 'referer' contiene referencias a motores de búsqueda como Google, Bing o Yahoo. Esto se hace mediante el método str.contains() que busca patrones de texto que contengan las cadenas de texto 'google', 'bing' o 'yahoo'.\n",
        "\n",
        "Luego, se seleccionan los identificadores únicos de sesión ('session_id') de estas filas.\n",
        "\n",
        " Finalmente, se calcula el número de sesiones únicas utilizando el método nunique(), lo que nos da el número total de visitas únicas que provienen de tráfico de búsqueda."
      ],
      "metadata": {
        "id": "P3KLy_67Xoic"
      }
    },
    {
      "cell_type": "code",
      "source": [
        "# Tráfico de búsqueda → Número de visitas (sesiones) que provienen de pinchar en una búsqueda\n",
        "search_traffic = df[df['referer'].str.contains('google|bing|yahoo', case=False, na=False)]['session_id'].nunique()\n",
        "print(\"Tráfico de búsqueda:\", search_traffic)"
      ],
      "metadata": {
        "id": "Rfn3-fkB8JZ1",
        "colab": {
          "base_uri": "https://localhost:8080/"
        },
        "outputId": "825f7e2c-66b5-4da8-892d-c2497efc543e"
      },
      "execution_count": 10,
      "outputs": [
        {
          "output_type": "stream",
          "name": "stdout",
          "text": [
            "Tráfico de búsqueda: 1448\n"
          ]
        }
      ]
    },
    {
      "cell_type": "markdown",
      "source": [
        "## Tráfico referido"
      ],
      "metadata": {
        "id": "WsClhrdH8MSR"
      }
    },
    {
      "cell_type": "markdown",
      "source": [
        "En este fragmento, se seleccionan las filas del DataFrame donde la columna 'referer' no es nula, lo que indica que el tráfico proviene de un enlace de referencia de otra página web. Se utiliza la condición notna() para seleccionar solo aquellas filas donde 'referer' tiene un valor válido.\n",
        "\n",
        " Luego, se seleccionan los identificadores únicos de sesión ('session_id') de estas filas utilizando la notación de acceso a columnas.\n",
        "\n",
        " Finalmente, se calcula el número de sesiones únicas utilizando el método nunique(), lo que nos da el número total de visitas únicas que provienen de tráfico referido."
      ],
      "metadata": {
        "id": "tWjGlmGgX-iK"
      }
    },
    {
      "cell_type": "code",
      "source": [
        "# - Tráfico referido → Número de visitas (sesiones) que provienen de pinchar en un enlace de otra página\n",
        "# es decir, donde referer no sea NaN\n",
        "num_trafico_referido = df[df['referer'].notna()]['session_id'].nunique()\n",
        "num_trafico_referido"
      ],
      "metadata": {
        "colab": {
          "base_uri": "https://localhost:8080/"
        },
        "id": "7TcZF4BI8OKe",
        "outputId": "b8518249-cf11-410e-80b6-e034ccb71769"
      },
      "execution_count": 11,
      "outputs": [
        {
          "output_type": "execute_result",
          "data": {
            "text/plain": [
              "3244"
            ]
          },
          "metadata": {},
          "execution_count": 11
        }
      ]
    }
  ]
}