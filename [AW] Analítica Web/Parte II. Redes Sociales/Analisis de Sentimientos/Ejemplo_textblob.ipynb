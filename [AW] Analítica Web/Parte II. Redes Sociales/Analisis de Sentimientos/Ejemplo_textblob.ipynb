{
  "cells": [
    {
      "cell_type": "markdown",
      "metadata": {
        "Collapsed": "false",
        "id": "T-MPiaxvwX8-"
      },
      "source": [
        "# TextBlob para Análisis de Sentimiento\n",
        "\n",
        "[Textblob](http://textblob.readthedocs.org/) es una librería de procesamiento del texto para Python que permite realizar tareas de Procesamiento del Lenguaje Natural como análisis morfológico, extracción de entidades, análisis de opinión, traducción automática, etc. Nosotros nos centraremos en la tarea de análisis de sentimiento basado el léxico. Es una de la más populares junto con VADER. En este ejemplo, veremos algunas de sus características más relevantes.\n"
      ]
    },
    {
      "cell_type": "markdown",
      "metadata": {
        "Collapsed": "false",
        "id": "qiWpjssLwX8_"
      },
      "source": [
        "Está construida sobre otras dos librerías muy famosas de Python: [NLTK](http://www.nltk.org/) y [pattern](http://www.clips.ua.ac.be/pages/pattern-en). La principal ventaja de [textblob](http://textblob.readthedocs.org/) es que permite combinar el uso de las dos herramientas anteriores en un interfaz más simple.\n",
        "\n",
        "Lo primero es importar el objeto `TextBlob` que nos permite acceder a todas las herramentas que incluye e instalarlo si nuestra distribución lo tuviese. También importaremos la librería nltk y descargaremos:\n",
        "\n",
        "\n",
        "*  punkt: se descarga los recursos para dividir un texto en tokens.\n",
        "*  brown: se descarga los recursos para fragmentar frases nominales.\n",
        "* wordnet: se descarga los recursos para realizar la lematización, entre otras tareas.\n",
        "* omw-1.4: se descarga los recursos para realizar tareas de lematización y conversiones del singular y plural.\n",
        "* averaged_perceptron_tagger: se descarga recursos necesarios para hacer análisis morfosintáctico."
      ]
    },
    {
      "cell_type": "code",
      "execution_count": null,
      "metadata": {
        "Collapsed": "false",
        "id": "UKZ_ClTVwX8_"
      },
      "outputs": [],
      "source": [
        "from textblob import TextBlob\n",
        "import nltk\n",
        "nltk.download('punkt_tab')\n",
        "nltk.download('brown')\n",
        "nltk.download('wordnet')\n",
        "nltk.download('omw-1.4')\n",
        "nltk.download('averaged_perceptron_tagger_eng')"
      ]
    },
    {
      "cell_type": "markdown",
      "source": [
        "Se hace uso de la librería deep-translator si necesitamos traducir a otro idioma."
      ],
      "metadata": {
        "id": "4oZ3T9GK_JKG"
      }
    },
    {
      "cell_type": "code",
      "source": [
        "pip install deep-translator"
      ],
      "metadata": {
        "id": "TnrosLq9-Bgn"
      },
      "execution_count": null,
      "outputs": []
    },
    {
      "cell_type": "markdown",
      "metadata": {
        "Collapsed": "false",
        "id": "8vKrowTFwX9A"
      },
      "source": [
        "Vamos a crear nuestro primer ejemplo de *textblob* a través del objeto `TextBlob`. Los *textblobs* son como una especie de cadenas de texto de Python, analizadas y enriquecidas con algunas características extra."
      ]
    },
    {
      "cell_type": "code",
      "execution_count": null,
      "metadata": {
        "Collapsed": "false",
        "id": "RXHZ6FdjwX9A"
      },
      "outputs": [],
      "source": [
        "texto = \"In new lawsuits brought against the ride-sharing companies Uber and Lyft, the top prosecutors in Los Angeles and San Francisco counties make an important point about the lightly regulated sharing economy. The consumers who  participate deserve a very clear picture of the risks they arere taking\"\n",
        "\n",
        "tb = TextBlob(texto)\n",
        "\n",
        "#Mostramos el objeto textblob\n",
        "print(tb)"
      ]
    },
    {
      "cell_type": "markdown",
      "metadata": {
        "Collapsed": "false",
        "id": "_Os2WSq1wX9B"
      },
      "source": [
        "## Procesando oraciones, palabras y entidades\n",
        "\n",
        "Podemos segmentar en oraciones accediendo a la propiedad `.sentences` e imprimimos por pantalla:"
      ]
    },
    {
      "cell_type": "code",
      "execution_count": null,
      "metadata": {
        "Collapsed": "false",
        "id": "wHiMPhgZwX9B"
      },
      "outputs": [],
      "source": [
        "# Dividimos el texto en frases y las mostramos por pantalla\n",
        "for sentence in tb.sentences:\n",
        "    print(sentence)\n",
        "    print(\"-\" * 75)"
      ]
    },
    {
      "cell_type": "markdown",
      "source": [
        "Segmentamos en palabras accediendo a la propiedad  .words e imprimimos por pantalla:"
      ],
      "metadata": {
        "id": "ZVCoC0Lpgt05"
      }
    },
    {
      "cell_type": "code",
      "source": [
        "# Dividimos el texto en palabras y las mostramos por pantalla\n",
        "print(tb.words)\n",
        "#print(texto.split())"
      ],
      "metadata": {
        "id": "N6ddecdIgtgb"
      },
      "execution_count": null,
      "outputs": []
    },
    {
      "cell_type": "markdown",
      "metadata": {
        "Collapsed": "false",
        "id": "1ijlI4RUwX9C"
      },
      "source": [
        "La propiedad `.noun_phrases` nos permite acceder a la lista de entidades (en realidad, son sintagmas nominales) incluídos en el *textblob*"
      ]
    },
    {
      "cell_type": "code",
      "execution_count": null,
      "metadata": {
        "Collapsed": "false",
        "id": "xaOiDitiwX9C"
      },
      "outputs": [],
      "source": [
        "#Obtenenmos las entidades y lo mostramos por pantalla\n",
        "print(\"El texto de ejemplo contiene\", len(tb.noun_phrases), \"entidades\")\n",
        "\n",
        "#Se muestran por pantalla dichas entidades\n",
        "for element in tb.noun_phrases:\n",
        "    print(\"-\", element)"
      ]
    },
    {
      "cell_type": "code",
      "execution_count": null,
      "metadata": {
        "Collapsed": "false",
        "id": "DSeRLtDSwX9C"
      },
      "outputs": [],
      "source": [
        "# Haciendo lematización, muestra la palabra, su singular y su plural\n",
        "for word in tb.words:\n",
        "    if word.endswith(\"s\"):\n",
        "        print(word.lemmatize(), word, word.singularize())\n",
        "    else:\n",
        "        print(word.lemmatize(), word, word.pluralize())"
      ]
    },
    {
      "cell_type": "markdown",
      "source": [
        "Otra opción de realizar la lematización es utilizar la propiedad tags, que nos hace un análisis de cada palabra. Permite hacer el procedimiento POS."
      ],
      "metadata": {
        "id": "O2secGmnir72"
      }
    },
    {
      "cell_type": "code",
      "execution_count": null,
      "metadata": {
        "Collapsed": "false",
        "id": "o8XHZidHwX9D"
      },
      "outputs": [],
      "source": [
        "# Realizamos un análisis de cada palabra con .tags, luego pasamos a plural solamente\n",
        "# si es un nombre en singular, o un nombre en plural\n",
        "for item in tb.tags:\n",
        "    if item[1] == \"NN\":\n",
        "        print(item[0], \"-->\", item[0].pluralize())\n",
        "    elif item[1] == \"NNS\":\n",
        "        print(item[0], \"-->\", item[0].singularize())\n",
        "    else:\n",
        "        print(item[0], item[0].lemmatize())"
      ]
    },
    {
      "cell_type": "markdown",
      "metadata": {
        "Collapsed": "false",
        "id": "DWjSNTEywX9D"
      },
      "source": [
        "## Análisis sintático\n",
        "\n",
        "Aunque podemos utilizar otros analizadores, por defecto el método `.parse()` invoca al analizador morfosintáctico del módulo  `pattern`."
      ]
    },
    {
      "cell_type": "code",
      "execution_count": null,
      "metadata": {
        "Collapsed": "false",
        "id": "P1EGI8CZwX9D"
      },
      "outputs": [],
      "source": [
        "# Se realiza el análisis\n",
        "print(tb.parse())"
      ]
    },
    {
      "cell_type": "markdown",
      "source": [
        "## Corregir errores en el texto\n",
        "\n",
        "La función correct, permite corregir errores ortográficos en el texto."
      ],
      "metadata": {
        "id": "HQPH69Zpn8-6"
      }
    },
    {
      "cell_type": "code",
      "source": [
        "# Realizar corrección ortográfica\n",
        "b1 = TextBlob(\"I havv goood speling!\")\n",
        "print(b1.correct())"
      ],
      "metadata": {
        "id": "3-v2rUmMoTnP"
      },
      "execution_count": null,
      "outputs": []
    },
    {
      "cell_type": "markdown",
      "metadata": {
        "Collapsed": "false",
        "id": "tLmYbWDQwX9D"
      },
      "source": [
        "## Traducción automática\n",
        "\n",
        "\n",
        "A partir de cualquier texto procesado con `TextBlob`, se puede traducir a otro idioma. Se debe indicar la lengua de destino. La lengua de origen, la detecta automáticamente de la frase que se desea traducir."
      ]
    },
    {
      "cell_type": "code",
      "execution_count": null,
      "metadata": {
        "Collapsed": "false",
        "id": "8au_Nh6JwX9D"
      },
      "outputs": [],
      "source": [
        "# Si necesitamos un determinado diccionario, podemos traducir el texto usando la biblioteca deep_translator\n",
        "from deep_translator import GoogleTranslator\n",
        "\n",
        "tb_es = TextBlob(\"La deuda pública ha marcado nuevos récords en España en el tercer trimestre\")\n",
        "\n",
        "\n",
        "print(\"--------------\")\n",
        "print(GoogleTranslator(source=\"auto\", target=\"en\").translate(tb_es.string))\n",
        "\n",
        "print(\"--------------\")\n",
        "print(GoogleTranslator(source=\"auto\", target=\"fr\").translate(tb_es.string))"
      ]
    },
    {
      "cell_type": "markdown",
      "metadata": {
        "Collapsed": "false",
        "id": "HYU_k5mFwX9E"
      },
      "source": [
        "## Análisis de opinion\n",
        "\n",
        "En textblob podemos obtener una métrica de polaridad y subjetividad. La polaridad es el sentimiento mismo, que va de -1 a +1. La subjetividad es una medida del sentimiento siendo objetivo a subjetivo, y va de 0 a 1."
      ]
    },
    {
      "cell_type": "code",
      "execution_count": null,
      "metadata": {
        "Collapsed": "false",
        "id": "i7WkiE83wX9E"
      },
      "outputs": [],
      "source": [
        "# Realizamos un análisis de la opinión 1 y lo mostramos\n",
        "opinion1 = TextBlob(\"This new restaurant is great. I had so much fun!! :-P\")\n",
        "print(opinion1.sentiment)\n",
        "\n",
        "# Realizamos un análisis de la opinión 2 y lo mostramos\n",
        "opinion2 = TextBlob(\"Google News to close in Spain.\")\n",
        "print(opinion2.sentiment)\n",
        "\n",
        "#También se puede solicitar solamente la polaridad o la subjectividad\n",
        "print(opinion1.sentiment.polarity)\n",
        "if opinion1.sentiment.subjectivity > 0.5:\n",
        "    print(\"Se trata de una opinión\")"
      ]
    }
  ],
  "metadata": {
    "kernelspec": {
      "display_name": "Python 3",
      "language": "python",
      "name": "python3"
    },
    "language_info": {
      "codemirror_mode": {
        "name": "ipython",
        "version": 3
      },
      "file_extension": ".py",
      "mimetype": "text/x-python",
      "name": "python",
      "nbconvert_exporter": "python",
      "pygments_lexer": "ipython3",
      "version": "3.7.6"
    },
    "colab": {
      "provenance": []
    }
  },
  "nbformat": 4,
  "nbformat_minor": 0
}